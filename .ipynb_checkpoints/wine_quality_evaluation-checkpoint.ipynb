{
 "cells": [
  {
   "cell_type": "code",
   "execution_count": 1,
   "metadata": {},
   "outputs": [
    {
     "name": "stdout",
     "output_type": "stream",
     "text": [
      "size:  (4898, 12)\n",
      "Quality values:  [3 4 5 6 7 8 9]\n"
     ]
    },
    {
     "data": {
      "text/html": [
       "<div>\n",
       "<style scoped>\n",
       "    .dataframe tbody tr th:only-of-type {\n",
       "        vertical-align: middle;\n",
       "    }\n",
       "\n",
       "    .dataframe tbody tr th {\n",
       "        vertical-align: top;\n",
       "    }\n",
       "\n",
       "    .dataframe thead th {\n",
       "        text-align: right;\n",
       "    }\n",
       "</style>\n",
       "<table border=\"1\" class=\"dataframe\">\n",
       "  <thead>\n",
       "    <tr style=\"text-align: right;\">\n",
       "      <th></th>\n",
       "      <th>fixed acidity</th>\n",
       "      <th>volatile acidity</th>\n",
       "      <th>citric acid</th>\n",
       "      <th>residual sugar</th>\n",
       "      <th>chlorides</th>\n",
       "      <th>free sulfur dioxide</th>\n",
       "      <th>total sulfur dioxide</th>\n",
       "      <th>density</th>\n",
       "      <th>pH</th>\n",
       "      <th>sulphates</th>\n",
       "      <th>alcohol</th>\n",
       "      <th>quality</th>\n",
       "    </tr>\n",
       "  </thead>\n",
       "  <tbody>\n",
       "    <tr>\n",
       "      <th>0</th>\n",
       "      <td>7.0</td>\n",
       "      <td>0.27</td>\n",
       "      <td>0.36</td>\n",
       "      <td>20.7</td>\n",
       "      <td>0.045</td>\n",
       "      <td>45.0</td>\n",
       "      <td>170.0</td>\n",
       "      <td>1.0010</td>\n",
       "      <td>3.00</td>\n",
       "      <td>0.45</td>\n",
       "      <td>8.8</td>\n",
       "      <td>6</td>\n",
       "    </tr>\n",
       "    <tr>\n",
       "      <th>1</th>\n",
       "      <td>6.3</td>\n",
       "      <td>0.30</td>\n",
       "      <td>0.34</td>\n",
       "      <td>1.6</td>\n",
       "      <td>0.049</td>\n",
       "      <td>14.0</td>\n",
       "      <td>132.0</td>\n",
       "      <td>0.9940</td>\n",
       "      <td>3.30</td>\n",
       "      <td>0.49</td>\n",
       "      <td>9.5</td>\n",
       "      <td>6</td>\n",
       "    </tr>\n",
       "    <tr>\n",
       "      <th>2</th>\n",
       "      <td>8.1</td>\n",
       "      <td>0.28</td>\n",
       "      <td>0.40</td>\n",
       "      <td>6.9</td>\n",
       "      <td>0.050</td>\n",
       "      <td>30.0</td>\n",
       "      <td>97.0</td>\n",
       "      <td>0.9951</td>\n",
       "      <td>3.26</td>\n",
       "      <td>0.44</td>\n",
       "      <td>10.1</td>\n",
       "      <td>6</td>\n",
       "    </tr>\n",
       "    <tr>\n",
       "      <th>3</th>\n",
       "      <td>7.2</td>\n",
       "      <td>0.23</td>\n",
       "      <td>0.32</td>\n",
       "      <td>8.5</td>\n",
       "      <td>0.058</td>\n",
       "      <td>47.0</td>\n",
       "      <td>186.0</td>\n",
       "      <td>0.9956</td>\n",
       "      <td>3.19</td>\n",
       "      <td>0.40</td>\n",
       "      <td>9.9</td>\n",
       "      <td>6</td>\n",
       "    </tr>\n",
       "    <tr>\n",
       "      <th>4</th>\n",
       "      <td>7.2</td>\n",
       "      <td>0.23</td>\n",
       "      <td>0.32</td>\n",
       "      <td>8.5</td>\n",
       "      <td>0.058</td>\n",
       "      <td>47.0</td>\n",
       "      <td>186.0</td>\n",
       "      <td>0.9956</td>\n",
       "      <td>3.19</td>\n",
       "      <td>0.40</td>\n",
       "      <td>9.9</td>\n",
       "      <td>6</td>\n",
       "    </tr>\n",
       "  </tbody>\n",
       "</table>\n",
       "</div>"
      ],
      "text/plain": [
       "   fixed acidity  volatile acidity  citric acid  residual sugar  chlorides  \\\n",
       "0            7.0              0.27         0.36            20.7      0.045   \n",
       "1            6.3              0.30         0.34             1.6      0.049   \n",
       "2            8.1              0.28         0.40             6.9      0.050   \n",
       "3            7.2              0.23         0.32             8.5      0.058   \n",
       "4            7.2              0.23         0.32             8.5      0.058   \n",
       "\n",
       "   free sulfur dioxide  total sulfur dioxide  density    pH  sulphates  \\\n",
       "0                 45.0                 170.0   1.0010  3.00       0.45   \n",
       "1                 14.0                 132.0   0.9940  3.30       0.49   \n",
       "2                 30.0                  97.0   0.9951  3.26       0.44   \n",
       "3                 47.0                 186.0   0.9956  3.19       0.40   \n",
       "4                 47.0                 186.0   0.9956  3.19       0.40   \n",
       "\n",
       "   alcohol  quality  \n",
       "0      8.8        6  \n",
       "1      9.5        6  \n",
       "2     10.1        6  \n",
       "3      9.9        6  \n",
       "4      9.9        6  "
      ]
     },
     "execution_count": 1,
     "metadata": {},
     "output_type": "execute_result"
    }
   ],
   "source": [
    "import pandas as pd\n",
    "\n",
    "df = pd.read_csv('https://archive.ics.uci.edu/ml/machine-learning-databases/wine-quality/winequality-white.csv', sep=';')\n",
    "\n",
    "print('size: ', df.shape)\n",
    "\n",
    "ordinal_quality_values = df['quality'].unique()\n",
    "ordinal_quality_values.sort()\n",
    "print('Quality values: ', ordinal_quality_values)  # actual scale 1-10\n",
    "\n",
    "df.head()"
   ]
  },
  {
   "cell_type": "code",
   "execution_count": 2,
   "metadata": {},
   "outputs": [
    {
     "name": "stdout",
     "output_type": "stream",
     "text": [
      "Mean absolute error:\n",
      "Linear Regression:  0.5836349500279401\n",
      "Logistic Regression (1 versus Rest):  0.7978766843609637\n",
      "Logistic Regression (Multiclass):  1.7564311964066965\n",
      "Ordinal logistic regression:  0.527970600244998\n"
     ]
    }
   ],
   "source": [
    "# choose models\n",
    "from sklearn.linear_model import LogisticRegression, LinearRegression, Ridge\n",
    "from sklearn.metrics import mean_absolute_error\n",
    "from mord import LogisticAT\n",
    "\n",
    "# instantiate models\n",
    "model_linear = LinearRegression()\n",
    "model_1vR = LogisticRegression(multi_class='ovr', class_weight='balanced')\n",
    "model_multi = LogisticRegression(multi_class='multinomial', solver='lbfgs', class_weight='balanced')\n",
    "model_ordinal = LogisticAT(alpha=0)  # alpha parameter set to zero to perform no regularisation\n",
    "\n",
    "# divide df into features matrix and target vector\n",
    "features = df.iloc[:, :-1]  #all except quality\n",
    "target = df['quality']\n",
    "\n",
    "# model fitting\n",
    "model_linear.fit(features, target)\n",
    "model_1vR.fit(features, target)\n",
    "model_multi.fit(features, target)\n",
    "model_ordinal.fit(features, target)\n",
    "\n",
    "# model evaluation\n",
    "target_linear_fit = model_linear.predict(features)\n",
    "target_1vR_fit = model_1vR.predict(features)\n",
    "target_multi_fit = model_multi.predict(features)\n",
    "target_ordinal_fit = model_ordinal.predict(features)\n",
    "\n",
    "print('Mean absolute error:' )\n",
    "print('Linear Regression: ', mean_absolute_error(target, target_linear_fit))\n",
    "print('Logistic Regression (1 versus Rest): ', mean_absolute_error(target, target_1vR_fit))\n",
    "print('Logistic Regression (Multiclass): ', mean_absolute_error(target, target_multi_fit))\n",
    "print('Ordinal logistic regression: ', mean_absolute_error(target, target_ordinal_fit))"
   ]
  },
  {
   "cell_type": "code",
   "execution_count": 3,
   "metadata": {},
   "outputs": [
    {
     "name": "stdout",
     "output_type": "stream",
     "text": [
      "Mean absolute error:\n",
      "Linear regression:  0.5937976390149522\n",
      "Logistic regression (one versus rest):  0.878373224226371\n",
      "Logistic regression (multiclass):  1.6912050915561436\n",
      "Ordinal logistic regression:  0.5461289112171938\n"
     ]
    }
   ],
   "source": [
    "from sklearn.model_selection import cross_val_score\n",
    "from sklearn.metrics import make_scorer\n",
    "import numpy as np\n",
    "\n",
    "MAE = make_scorer(mean_absolute_error)\n",
    "folds = 5\n",
    "\n",
    "print('Mean absolute error:' )\n",
    "MAE_linear = cross_val_score(model_linear, features, target, \n",
    "                                                  cv=folds,\n",
    "                                                  scoring=MAE)\n",
    "print('Linear regression: ', np.mean(MAE_linear))\n",
    "MAE_1vR = cross_val_score(model_1vR, features, target, \n",
    "                                                  cv=folds,\n",
    "                                                  scoring=MAE)\n",
    "print('Logistic regression (one versus rest): ', np.mean(MAE_1vR))\n",
    "MAE_multi = cross_val_score(model_multi, features, target, \n",
    "                                                  cv=folds,\n",
    "                                                  scoring=MAE)\n",
    "print('Logistic regression (multiclass): ', np.mean(MAE_multi))\n",
    "MAE_ordinal = cross_val_score(model_ordinal, features, target, \n",
    "                                                  cv=folds,\n",
    "                                                  scoring=MAE)\n",
    "print('Ordinal logistic regression: ', np.mean(MAE_ordinal))"
   ]
  },
  {
   "cell_type": "code",
   "execution_count": 4,
   "metadata": {},
   "outputs": [
    {
     "data": {
      "text/plain": [
       "\"from sklearn.metrics import f1_score\\n\\ndef F1_fun(target_true, target_fit):\\n    target_fit = np.round(target_fit)\\n    target_fit.astype('int')\\n    return f1_score(target_true, target_fit, average='weighted')\\n    \\nF1 = make_scorer(F1_fun)\\nfolds = 5\\n\\nprint('F1_score:' )\\nprint('Linear regression: ', np.mean(cross_val_score(model_linear, features, target, \\n                                                  cv=folds,\\n                                                  scoring=F1)))\\nprint('Logistic regression (one versus rest): ', np.mean(cross_val_score(model_1vR, features, target, \\n                                                  cv=folds,\\n                                                  scoring=F1)))\\nprint('Logistic regression (multiclass): ', np.mean(cross_val_score(model_multi, features, target, \\n                                                  cv=folds,\\n                                                  scoring=F1)))\\nprint('Ordinal logistic regression: ', np.mean(cross_val_score(model_ordinal, features, target, \\n                                                  cv=folds,\\n                                                  scoring=F1)))\\n\""
      ]
     },
     "execution_count": 4,
     "metadata": {},
     "output_type": "execute_result"
    }
   ],
   "source": [
    "'''from sklearn.metrics import f1_score\n",
    "\n",
    "def F1_fun(target_true, target_fit):\n",
    "    target_fit = np.round(target_fit)\n",
    "    target_fit.astype('int')\n",
    "    return f1_score(target_true, target_fit, average='weighted')\n",
    "    \n",
    "F1 = make_scorer(F1_fun)\n",
    "folds = 5\n",
    "\n",
    "print('F1_score:' )\n",
    "print('Linear regression: ', np.mean(cross_val_score(model_linear, features, target, \n",
    "                                                  cv=folds,\n",
    "                                                  scoring=F1)))\n",
    "print('Logistic regression (one versus rest): ', np.mean(cross_val_score(model_1vR, features, target, \n",
    "                                                  cv=folds,\n",
    "                                                  scoring=F1)))\n",
    "print('Logistic regression (multiclass): ', np.mean(cross_val_score(model_multi, features, target, \n",
    "                                                  cv=folds,\n",
    "                                                  scoring=F1)))\n",
    "print('Ordinal logistic regression: ', np.mean(cross_val_score(model_ordinal, features, target, \n",
    "                                                  cv=folds,\n",
    "                                                  scoring=F1)))\n",
    "'''"
   ]
  },
  {
   "cell_type": "code",
   "execution_count": 5,
   "metadata": {},
   "outputs": [
    {
     "name": "stdout",
     "output_type": "stream",
     "text": [
      "Accuracy:\n",
      "Linear regression:  0.5065412436680494\n",
      "Logistic regression (one versus rest):  0.4087836694873818\n",
      "Logistic regression (multiclass):  0.17129729286134823\n",
      "Ordinal ligistic regression:  0.5134839799045257\n"
     ]
    }
   ],
   "source": [
    "from sklearn.metrics import accuracy_score\n",
    "\n",
    "def acc_fun(target_true, target_fit):\n",
    "    target_fit = np.round(target_fit)\n",
    "    target_fit.astype('int')\n",
    "    return accuracy_score(target_true, target_fit)\n",
    "    \n",
    "acc = make_scorer(acc_fun)\n",
    "folds = 5\n",
    "\n",
    "print('Accuracy:' )\n",
    "acc_linear = cross_val_score(model_linear, features, target, \n",
    "                                                  cv=folds,\n",
    "                                                  scoring=acc)\n",
    "print('Linear regression: ', np.mean(acc_linear))\n",
    "acc_1vR = cross_val_score(model_1vR, features, target, \n",
    "                                                  cv=folds,\n",
    "                                                  scoring=acc)\n",
    "print('Logistic regression (one versus rest): ', np.mean(acc_1vR))\n",
    "acc_multi = cross_val_score(model_multi, features, target, \n",
    "                                                  cv=folds,\n",
    "                                                  scoring=acc)\n",
    "print('Logistic regression (multiclass): ', np.mean(acc_multi))\n",
    "acc_ordinal = cross_val_score(model_ordinal, features, target, \n",
    "                                                  cv=folds,\n",
    "                                                  scoring=acc)\n",
    "print('Ordinal ligistic regression: ', np.mean(acc_ordinal))"
   ]
  },
  {
   "cell_type": "code",
   "execution_count": 38,
   "metadata": {},
   "outputs": [],
   "source": [
    "def nuss_style_fun(ax, title):\n",
    "    \n",
    "    #remove top and right frame parts\n",
    "    ax.spines['top'].set_visible(False)\n",
    "    ax.spines['right'].set_visible(False)\n",
    "    \n",
    "    # set left and bottom axis to grey\n",
    "    ax.spines['left'].set_color('grey')\n",
    "    ax.spines['bottom'].set_color('grey')\n",
    "    \n",
    "    # set ticks to grey\n",
    "    ax.tick_params(axis='x', colors='grey')\n",
    "    ax.tick_params(axis='y', colors='grey')\n",
    "    \n",
    "    #set labels to grey\n",
    "    ax.yaxis.label.set_color('grey')\n",
    "    ax.xaxis.label.set_color('grey') \n",
    "    \n",
    "    # align axis labels with axis ends\n",
    "    ax.set_xlabel(xlabel=None,\n",
    "                  position=[0, 0],\n",
    "                  horizontalalignment='left',\n",
    "                  color='grey',\n",
    "                  size=14)\n",
    "    ax.set_ylabel(ylabel=None,\n",
    "                  position=[0, 1],\n",
    "                  horizontalalignment='right',\n",
    "                  color='grey',\n",
    "                  size=14)\n",
    "    \n",
    "    #align title\n",
    "    ax.set_title(label=title,\n",
    "                 loc='left',\n",
    "                 color=(0.41, 0.41, 0.41),\n",
    "                 size=16)\n",
    "    \n",
    "    return ax"
   ]
  },
  {
   "cell_type": "code",
   "execution_count": 51,
   "metadata": {},
   "outputs": [
    {
     "data": {
      "text/plain": [
       "[Text(0,1,' '), (0, 1), Text(0,0,'Classification accuracy (higher is better)')]"
      ]
     },
     "execution_count": 51,
     "metadata": {},
     "output_type": "execute_result"
    },
    {
     "data": {
      "image/png": "[encoded data removed]",
      "text/plain": [
       "<Figure size 720x432 with 2 Axes>"
      ]
     },
     "metadata": {},
     "output_type": "display_data"
    }
   ],
   "source": [
    "%matplotlib inline\n",
    "import seaborn as sns\n",
    "import matplotlib.pyplot as plt\n",
    "\n",
    "fig, axs = plt.subplots(ncols=2, figsize=[10, 6])\n",
    "fig.suptitle('Ordinal regression predicts wine ratings best\\n\\n',\n",
    "            color='dimgrey',\n",
    "             size=22)\n",
    "\n",
    "axs[0] = nuss_style_fun(ax=axs[0], title='\\n\\nCategory prediction')\n",
    "\n",
    "sns.boxplot(y=['Linear Regression', 'Logistic Regression\\n(one versus rest)', 'Logistic regression\\n(multiclass)', 'Ordinal logistic regression'],\n",
    "            x=[acc_linear, acc_1vR, acc_multi, acc_ordinal], ax=axs[0])\n",
    "axs[0].set(xlabel='Classification accuracy (higher is better)',\n",
    "      ylabel=' ',\n",
    "      xlim=[0, 1])"
   ]
  },
  {
   "cell_type": "code",
   "execution_count": 52,
   "metadata": {},
   "outputs": [
    {
     "data": {
      "image/png": "[encoded data removed]",
      "text/plain": [
       "<Figure size 720x432 with 2 Axes>"
      ]
     },
     "execution_count": 52,
     "metadata": {},
     "output_type": "execute_result"
    }
   ],
   "source": [
    "axs[1] = nuss_style_fun(ax=axs[1], title='\\n\\nMagnitude prediction')\n",
    "\n",
    "sns.boxplot(y=['Linear Regression', 'Logistic Regression\\n(one versus rest)', 'Logistic regression\\n(multiclass)', 'Ordinal logistic regression'],\n",
    "            x=[MAE_linear, MAE_1vR, MAE_multi, MAE_ordinal], ax=axs[1])\n",
    "axs[1].set(xlabel='Mean absolute error (lower is better)',\n",
    "      ylabel=' ')\n",
    "axs[1].get_yaxis().set_ticks([])\n",
    "\n",
    "fig.tight_layout()\n",
    "fig.savefig('wine_ratings_model_accuracy.png')\n",
    "fig\n"
   ]
  }
 ],
 "metadata": {
  "kernelspec": {
   "display_name": "Python 3",
   "language": "python",
   "name": "python3"
  },
  "language_info": {
   "codemirror_mode": {
    "name": "ipython",
    "version": 3
   },
   "file_extension": ".py",
   "mimetype": "text/x-python",
   "name": "python",
   "nbconvert_exporter": "python",
   "pygments_lexer": "ipython3",
   "version": "3.7.0"
  }
 },
 "nbformat": 4,
 "nbformat_minor": 2
}
